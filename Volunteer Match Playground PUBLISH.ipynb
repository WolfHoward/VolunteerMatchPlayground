{
 "cells": [
  {
   "cell_type": "markdown",
   "metadata": {},
   "source": [
    "# My New Data Playground\n",
    "\n",
    "Small data is still valuable data, no matter what the job listings say. In my work with Table Wisdom I've found myself doing highly repetitve, inefficient tasks in order to develop a sense of how we can recruit efficiently. It was old after the third time, and two weeks in it was absolutely mind numbing. \n",
    "\n",
    "What better time to bring out my two favorite toys, Python and Pandas, to make life a little more beautiful. In what follows I share the processes I've developed to automate exporting general data concerning our volunteer postings, and then cleaning it and putting it together in a useful file format. At the end of it all connect to a Google Sheet I've shared through the Drive API and upload my workbook.\n",
    "\n",
    "The whole process took me about a day, with a lot of new concepts in it for me. All in all I'm super happy with the result. I've actually been laughing out loud when things work. Pure joy."
   ]
  },
  {
   "cell_type": "code",
   "execution_count": 1,
   "metadata": {
    "collapsed": true
   },
   "outputs": [],
   "source": [
    "import datetime as dt\n",
    "import os\n",
    "\n",
    "# I'm using gspread and oauth2 to connect to Google's API. Openpyxl is helping me add new sheets to an existing\n",
    "# workbook without overwriting my original data.\n",
    "import gspread\n",
    "from oauth2client.service_account import ServiceAccountCredentials\n",
    "from openpyxl import load_workbook\n",
    "import pandas as pd"
   ]
  },
  {
   "cell_type": "code",
   "execution_count": 20,
   "metadata": {
    "collapsed": true
   },
   "outputs": [],
   "source": [
    "base = \"c:\\\\Path\\\\To\\\\Spreadsheets\\\\\""
   ]
  },
  {
   "cell_type": "markdown",
   "metadata": {},
   "source": [
    "### It took me ages to figure out what was going wrong with this first function\n",
    "\n",
    "Ok, maybe it was 30 minutes. But it felt like ages. In a separate script I run a selenium webdriver to log in to my account on VolunteerMatch and export our opportunity reports. I wired up a Firefox profile to circumnavigate the \"Save as\" pop-up window, and an '.xls' file came through on the other end. \n",
    "\n",
    "Then I tried to run pd.read_excel and I got a Beginning of File error. Apparently a .xls file isn't meant to begin with \"Title\\tCon...\". I'm sure most of you would look at that and realize the issue straight away. This was my first encounter of the BOF kind, so I hit Stack Overflow. A few solutions suggested trying pd.read_html, which I tried. The response? \"No table found.\" Well of course not, there's no HTML table ta...\n",
    "\n",
    "It was a tab delimited file: I needed pd.read_table. "
   ]
  },
  {
   "cell_type": "code",
   "execution_count": 3,
   "metadata": {
    "collapsed": true
   },
   "outputs": [],
   "source": [
    "def format_data():\n",
    "    # Our data has a '.xls' extension, but it's really a tab delimited file\n",
    "    df = pd.read_table(base + \"report.xls\")\n",
    "\n",
    "    # Filtering out unneccessary columns\n",
    "    headers =['Title', 'Connections', 'Views', 'Date', 'City', 'State', 'ZIP Code']\n",
    "    vm_data = df[headers]\n",
    "\n",
    "    # Want a column showing rate of response (RR)\n",
    "    connections = vm_data.loc[:,'Connections']\n",
    "    views = vm_data.loc[:,'Views']\n",
    "    vm_data['RR'] = connections/views\n",
    "\n",
    "    # We also want to show values based on response rate, highest first\n",
    "    zip_order = vm_data.sort_values('ZIP Code', ascending=True).loc[:,\n",
    "                    ['ZIP Code', 'RR', 'Connections', 'Views', 'Title',]]\n",
    "\n",
    "    zip_order = zip_order.rename(columns={'ZIP Code': 'Zip Code'})\n",
    "    return zip_order"
   ]
  },
  {
   "cell_type": "markdown",
   "metadata": {},
   "source": [
    "This one is pretty much identical to the function above, but I needed to be able to pair up zip codes, cities, and states while I was throwing together a quick function to get list some data I was missing."
   ]
  },
  {
   "cell_type": "code",
   "execution_count": 4,
   "metadata": {
    "collapsed": true
   },
   "outputs": [],
   "source": [
    "def format_data_full():\n",
    "    # Our data has a '.xls' extension, but it's really a tab delimited file\n",
    "    df = pd.read_table(base + \"report.xls\")\n",
    "\n",
    "    # Filtering out unneccessary columns\n",
    "    headers =['Title', 'Connections', 'Views', 'Date', 'City', 'State', 'ZIP Code']\n",
    "    vm_data = df[headers]\n",
    "\n",
    "    # Want a column showing rate of response (RR)\n",
    "    connections = vm_data.loc[:,'Connections']\n",
    "    views = vm_data.loc[:,'Views']\n",
    "    vm_data['RR'] = connections/views\n",
    "\n",
    "    # We also want to show values based on response rate, highest first\n",
    "    zip_order = vm_data.sort_values('ZIP Code', ascending=True).loc[:,\n",
    "                    ['ZIP Code', 'RR', 'Connections', 'Views', 'Title', 'City', 'State']]\n",
    "\n",
    "    zip_order = zip_order.rename(columns={'ZIP Code': 'Zip Code'})\n",
    "    return zip_order"
   ]
  },
  {
   "cell_type": "markdown",
   "metadata": {},
   "source": [
    "## Just wanted to show off my web scraping script.\n",
    "\n",
    "I won't run it here, but this is my script to automatically download our Opportunity report. "
   ]
  },
  {
   "cell_type": "code",
   "execution_count": null,
   "metadata": {
    "collapsed": true
   },
   "outputs": [],
   "source": [
    "from selenium import webdriver\n",
    "from selenium.webdriver.firefox.firefox_profile import FirefoxProfile\n",
    "from login import login\n",
    "\n",
    "url = \"https://www.volunteermatch.org/track/need_to_know_basis\"\n",
    "\n",
    "def get_vm_connections():\n",
    "    # Disabling the \"save\" dialog box via custom profile settings\n",
    "    profile = FirefoxProfile()\n",
    "    profile.set_preference(\"browser.download.panel.shown\", False)\n",
    "    profile.set_preference(\"browser.helperApps.neverAsk.openFile\",\"text/xls,application/vnd.ms-excel\")\n",
    "    profile.set_preference(\"browser.helperApps.neverAsk.saveToDisk\", \"text/xls,application/vnd.ms-excel\")\n",
    "    profile.set_preference(\"browser.download.folderList\", 2);\n",
    "    profile.set_preference(\"browser.download.dir\", \"c:\\\\Users\\\\wolfa\\\\Documents\\\\VolunteerMatch\\\\\")\n",
    "\n",
    "    driver = webdriver.Firefox(firefox_profile=profile)\n",
    "    driver.get(url)\n",
    "\n",
    "    # Autofilling username and password to log in\n",
    "    username = driver.find_element_by_id(\"username\")\n",
    "    password = driver.find_element_by_id(\"password\")\n",
    "\n",
    "    username.send_keys(login['username'])\n",
    "    password.send_keys(login['password'])\n",
    "\n",
    "    driver.find_element_by_id(\"login_button\").click()\n",
    "\n",
    "    # This is the \"export opp report\" button\n",
    "    driver.find_element_by_class_name(\"adminui_button\").click()\n",
    "\n",
    "    driver.close()\n",
    "\n",
    "get_vm_connections()\n"
   ]
  },
  {
   "cell_type": "markdown",
   "metadata": {},
   "source": [
    "### Learning about Google Drive's API was a lot of fun\n",
    "\n",
    "Now that I know how to work with it I have a feeling I'll be doing a lot more remote work with my Drive files. I opted to replace all of the data in the workbook rather than trying to start a new sheet for each upload. I figure having the original files on my desktop is good enough, we won't need historical analysis all that often."
   ]
  },
  {
   "cell_type": "code",
   "execution_count": 5,
   "metadata": {
    "collapsed": true
   },
   "outputs": [],
   "source": [
    "def upload_to_sheets(dataframe):\n",
    "    # use creds to create a client to interact with Drive API\n",
    "    scope = [\n",
    "        'https://spreadsheets.google.com/feeds',\n",
    "        'https://www.googleapis.com/auth/drive',\n",
    "    ]\n",
    "    \n",
    "    creds = ServiceAccountCredentials.from_json_keyfile_name('secret.json', scope)\n",
    "    client = gspread.authorize(creds)\n",
    "\n",
    "    client.import_csv(\"abunchofrandomcharacters\", dataframe.to_csv())\n"
   ]
  },
  {
   "cell_type": "markdown",
   "metadata": {},
   "source": [
    "### I ran into some trouble adding new sheets to a workbook\n",
    "\n",
    "Again, Stack Overflow to the rescue. The save_to_excel function is a super simple version of what I really wanted to do, and will overwrite the workbook every time. The append_vm_data function is what I was really after. Using the openpyxl engine makes sure my forumlae don't break when I write to the workbook, and I'm calling pandas ExcelWriter explicitly to get that beautiful new sheet functionality. "
   ]
  },
  {
   "cell_type": "code",
   "execution_count": 6,
   "metadata": {
    "collapsed": true
   },
   "outputs": [],
   "source": [
    "def save_to_excel(df):\n",
    "    today = dt.datetime.today().strftime(\"%m-%d-%Y\")\n",
    "    df.to_excel(base + 'vm-data1.xlsx',\n",
    "                sheet_name='{}'.format(today))"
   ]
  },
  {
   "cell_type": "code",
   "execution_count": 7,
   "metadata": {
    "collapsed": true
   },
   "outputs": [],
   "source": [
    "def append_vm_data(df):\n",
    "    # Want to make sure the sheet name reflects when I ran my script\n",
    "    today = dt.datetime.today().strftime(\"%m-%d-%Y\")\n",
    "    \n",
    "    book = load_workbook(base + 'vm-opp-data.xlsx')\n",
    "    writer = pd.ExcelWriter(base + 'vm-opp-data.xlsx', engine='openpyxl')\n",
    "    writer.book = book\n",
    "    writer.sheets = dict((ws.title, ws) for ws in book.worksheets)\n",
    "    df.to_excel(writer, today)\n",
    "    writer.save()"
   ]
  },
  {
   "cell_type": "markdown",
   "metadata": {},
   "source": [
    "## Pandas really likes turning things into float type\n",
    "\n",
    "Rather than write out all of my converters when building my dataframe, I elected to put them in a dictionary. Anything to stay pythonic."
   ]
  },
  {
   "cell_type": "code",
   "execution_count": 8,
   "metadata": {
    "collapsed": true
   },
   "outputs": [],
   "source": [
    "type_def = {\n",
    "    'Zip Code':int,\n",
    "    'Population':int,\n",
    "    'Age 50+':float,\n",
    "    'Potential Reach':int,\n",
    "    \"Bachelor's Degree+\":float,\n",
    "    'Median HH Income':int,\n",
    "    'Households w/ Retirement Income':float,\n",
    "    'City':str,\n",
    "    'State':str,\n",
    "}"
   ]
  },
  {
   "cell_type": "code",
   "execution_count": 9,
   "metadata": {},
   "outputs": [
    {
     "name": "stderr",
     "output_type": "stream",
     "text": [
      "c:\\users\\wolfa\\.virtualenvs\\tw\\lib\\site-packages\\ipykernel_launcher.py:12: SettingWithCopyWarning: \n",
      "A value is trying to be set on a copy of a slice from a DataFrame.\n",
      "Try using .loc[row_indexer,col_indexer] = value instead\n",
      "\n",
      "See the caveats in the documentation: http://pandas.pydata.org/pandas-docs/stable/indexing.html#indexing-view-versus-copy\n",
      "  if sys.path[0] == '':\n"
     ]
    },
    {
     "data": {
      "text/html": [
       "<div>\n",
       "<style>\n",
       "    .dataframe thead tr:only-child th {\n",
       "        text-align: right;\n",
       "    }\n",
       "\n",
       "    .dataframe thead th {\n",
       "        text-align: left;\n",
       "    }\n",
       "\n",
       "    .dataframe tbody tr th {\n",
       "        vertical-align: top;\n",
       "    }\n",
       "</style>\n",
       "<table border=\"1\" class=\"dataframe\">\n",
       "  <thead>\n",
       "    <tr style=\"text-align: right;\">\n",
       "      <th></th>\n",
       "      <th>Zip Code</th>\n",
       "      <th>RR</th>\n",
       "      <th>Connections</th>\n",
       "      <th>Views</th>\n",
       "      <th>Title</th>\n",
       "    </tr>\n",
       "  </thead>\n",
       "  <tbody>\n",
       "    <tr>\n",
       "      <th>24</th>\n",
       "      <td>90209</td>\n",
       "      <td>0.029046</td>\n",
       "      <td>7</td>\n",
       "      <td>241</td>\n",
       "      <td>Do You Like To Chat? Have fun and Videochat wi...</td>\n",
       "    </tr>\n",
       "    <tr>\n",
       "      <th>0</th>\n",
       "      <td>94129</td>\n",
       "      <td>0.020000</td>\n",
       "      <td>3</td>\n",
       "      <td>150</td>\n",
       "      <td>Do You Like to Chat?  Have Fun and Video-chat ...</td>\n",
       "    </tr>\n",
       "    <tr>\n",
       "      <th>2</th>\n",
       "      <td>97034</td>\n",
       "      <td>0.013793</td>\n",
       "      <td>2</td>\n",
       "      <td>145</td>\n",
       "      <td>Do You Like to Chat?  Have Fun and Video-chat ...</td>\n",
       "    </tr>\n",
       "    <tr>\n",
       "      <th>7</th>\n",
       "      <td>97301</td>\n",
       "      <td>0.000000</td>\n",
       "      <td>0</td>\n",
       "      <td>56</td>\n",
       "      <td>Do You Like to Chat?  Have Fun and Video-chat ...</td>\n",
       "    </tr>\n",
       "    <tr>\n",
       "      <th>1</th>\n",
       "      <td>98039</td>\n",
       "      <td>0.009615</td>\n",
       "      <td>2</td>\n",
       "      <td>208</td>\n",
       "      <td>Do You Like to Chat?  Have Fun and Video-chat ...</td>\n",
       "    </tr>\n",
       "  </tbody>\n",
       "</table>\n",
       "</div>"
      ],
      "text/plain": [
       "    Zip Code        RR  Connections  Views  \\\n",
       "24     90209  0.029046            7    241   \n",
       "0      94129  0.020000            3    150   \n",
       "2      97034  0.013793            2    145   \n",
       "7      97301  0.000000            0     56   \n",
       "1      98039  0.009615            2    208   \n",
       "\n",
       "                                                Title  \n",
       "24  Do You Like To Chat? Have fun and Videochat wi...  \n",
       "0   Do You Like to Chat?  Have Fun and Video-chat ...  \n",
       "2   Do You Like to Chat?  Have Fun and Video-chat ...  \n",
       "7   Do You Like to Chat?  Have Fun and Video-chat ...  \n",
       "1   Do You Like to Chat?  Have Fun and Video-chat ...  "
      ]
     },
     "execution_count": 9,
     "metadata": {},
     "output_type": "execute_result"
    }
   ],
   "source": [
    "opp_data = format_data()\n",
    "opp_data.tail()"
   ]
  },
  {
   "cell_type": "code",
   "execution_count": 10,
   "metadata": {},
   "outputs": [
    {
     "data": {
      "text/html": [
       "<div>\n",
       "<style>\n",
       "    .dataframe thead tr:only-child th {\n",
       "        text-align: right;\n",
       "    }\n",
       "\n",
       "    .dataframe thead th {\n",
       "        text-align: left;\n",
       "    }\n",
       "\n",
       "    .dataframe tbody tr th {\n",
       "        vertical-align: top;\n",
       "    }\n",
       "</style>\n",
       "<table border=\"1\" class=\"dataframe\">\n",
       "  <thead>\n",
       "    <tr style=\"text-align: right;\">\n",
       "      <th></th>\n",
       "      <th>Zip Code</th>\n",
       "      <th>Population</th>\n",
       "      <th>Age 50+</th>\n",
       "      <th>Potential Reach</th>\n",
       "      <th>Bachelor's Degree+</th>\n",
       "      <th>Median HH Income</th>\n",
       "      <th>Households w/ Retirement Income</th>\n",
       "      <th>City</th>\n",
       "      <th>State</th>\n",
       "    </tr>\n",
       "  </thead>\n",
       "  <tbody>\n",
       "    <tr>\n",
       "      <th>31</th>\n",
       "      <td>94129</td>\n",
       "      <td>3639</td>\n",
       "      <td>0.10</td>\n",
       "      <td>363</td>\n",
       "      <td>0.86</td>\n",
       "      <td>163786</td>\n",
       "      <td>0.01</td>\n",
       "      <td>San Francisco</td>\n",
       "      <td>CA</td>\n",
       "    </tr>\n",
       "    <tr>\n",
       "      <th>32</th>\n",
       "      <td>97034</td>\n",
       "      <td>19290</td>\n",
       "      <td>0.47</td>\n",
       "      <td>9066</td>\n",
       "      <td>0.69</td>\n",
       "      <td>104571</td>\n",
       "      <td>0.19</td>\n",
       "      <td>Lake Oswego</td>\n",
       "      <td>OR</td>\n",
       "    </tr>\n",
       "    <tr>\n",
       "      <th>33</th>\n",
       "      <td>97301</td>\n",
       "      <td>54844</td>\n",
       "      <td>0.24</td>\n",
       "      <td>13162</td>\n",
       "      <td>0.15</td>\n",
       "      <td>36455</td>\n",
       "      <td>0.17</td>\n",
       "      <td>Salem</td>\n",
       "      <td>OR</td>\n",
       "    </tr>\n",
       "    <tr>\n",
       "      <th>34</th>\n",
       "      <td>98039</td>\n",
       "      <td>3120</td>\n",
       "      <td>0.42</td>\n",
       "      <td>1310</td>\n",
       "      <td>0.82</td>\n",
       "      <td>174063</td>\n",
       "      <td>0.11</td>\n",
       "      <td>Medina</td>\n",
       "      <td>WA</td>\n",
       "    </tr>\n",
       "    <tr>\n",
       "      <th>35</th>\n",
       "      <td>90209</td>\n",
       "      <td>22052</td>\n",
       "      <td>0.45</td>\n",
       "      <td>9923</td>\n",
       "      <td>0.61</td>\n",
       "      <td>145227</td>\n",
       "      <td>0.10</td>\n",
       "      <td>Beverly Hills</td>\n",
       "      <td>CA</td>\n",
       "    </tr>\n",
       "  </tbody>\n",
       "</table>\n",
       "</div>"
      ],
      "text/plain": [
       "    Zip Code  Population  Age 50+  Potential Reach  Bachelor's Degree+  \\\n",
       "31     94129        3639     0.10              363                0.86   \n",
       "32     97034       19290     0.47             9066                0.69   \n",
       "33     97301       54844     0.24            13162                0.15   \n",
       "34     98039        3120     0.42             1310                0.82   \n",
       "35     90209       22052     0.45             9923                0.61   \n",
       "\n",
       "    Median HH Income  Households w/ Retirement Income           City State  \n",
       "31            163786                             0.01  San Francisco    CA  \n",
       "32            104571                             0.19    Lake Oswego    OR  \n",
       "33             36455                             0.17          Salem    OR  \n",
       "34            174063                             0.11         Medina    WA  \n",
       "35            145227                             0.10  Beverly Hills    CA  "
      ]
     },
     "execution_count": 10,
     "metadata": {},
     "output_type": "execute_result"
    }
   ],
   "source": [
    "demo_data = pd.read_excel(base + 'vm-opp-data.xlsx',sheetname='Template',converters=type_def)\n",
    "demo_data.tail()"
   ]
  },
  {
   "cell_type": "markdown",
   "metadata": {},
   "source": [
    "## My original spreadsheet with income data was missing some zip codes\n",
    "\n",
    "I threw together a few lists to quickly parse which zip codes I was missing. We've been using [Town Charts](towncharts.com) for most of our analysis, and thankfully their url structure is very easy to use. Rather than typing zip codes into their search box, I elected to generate the urls to the zip codes I needed with a clean for-loop and leisurely click through the list. This made me very happy.\n",
    "\n",
    "Since I've finished building out my dataset at this point, I've added one errant zip code to demonstrate functionality. Pandas is doing its float thing, so I convert to int explicitly in case you want to click the link to make sure it works."
   ]
  },
  {
   "cell_type": "code",
   "execution_count": 12,
   "metadata": {},
   "outputs": [],
   "source": [
    "opp_zips = []\n",
    "res_zips = []\n",
    "\n",
    "for item in opp_data['Zip Code']:\n",
    "    opp_zips.append(item)\n",
    "\n",
    "for item in demo_data['Zip Code']:\n",
    "    res_zips.append(item)\n",
    "\n",
    "missing_zips =[]\n",
    "\n",
    "for code in opp_zips:\n",
    "    if code not in res_zips:\n",
    "        missing_zips.append(code)"
   ]
  },
  {
   "cell_type": "code",
   "execution_count": 13,
   "metadata": {},
   "outputs": [
    {
     "name": "stdout",
     "output_type": "stream",
     "text": [
      "  State  Zip Code\n",
      "0    MO   63103.0\n"
     ]
    },
    {
     "name": "stderr",
     "output_type": "stream",
     "text": [
      "c:\\users\\wolfa\\.virtualenvs\\tw\\lib\\site-packages\\ipykernel_launcher.py:12: SettingWithCopyWarning: \n",
      "A value is trying to be set on a copy of a slice from a DataFrame.\n",
      "Try using .loc[row_indexer,col_indexer] = value instead\n",
      "\n",
      "See the caveats in the documentation: http://pandas.pydata.org/pandas-docs/stable/indexing.html#indexing-view-versus-copy\n",
      "  if sys.path[0] == '':\n"
     ]
    }
   ],
   "source": [
    "df = format_data_full()\n",
    "states = df.loc[df['Zip Code'].isin(missing_zips), ['State', 'Zip Code']]\n",
    "states.loc[0,['Zip Code']] = 63103\n",
    "states.loc[0,['State']] = 'MO'\n",
    "print(states)\n",
    "abb_to_full = {\n",
    "    'NY': 'New-York',\n",
    "    'NC': 'North-Carolina',\n",
    "    'FL': 'Florida',\n",
    "    'TN': 'Tennessee',\n",
    "    'IA': 'Iowa',\n",
    "    'MN': 'Minnesota',\n",
    "    'TX': 'Texas',\n",
    "    'MO': 'Missouri',\n",
    "    'CO': 'Colorado',\n",
    "    'UT': 'Utah',\n",
    "    'OR': 'Oregon',\n",
    "    'CA': 'California',\n",
    "    'OR': 'Oregon',\n",
    "    'WA': 'Washington',\n",
    "}"
   ]
  },
  {
   "cell_type": "code",
   "execution_count": 14,
   "metadata": {},
   "outputs": [
    {
     "name": "stdout",
     "output_type": "stream",
     "text": [
      "63103.0 http://www.towncharts.com/Missouri/Demographics/63103-Zipcode-MO-Demographics-data.html\n"
     ]
    }
   ],
   "source": [
    "url_template = \"http://www.towncharts.com/{}/Demographics/{}-Zipcode-{}-Demographics-data.html\"\n",
    "\n",
    "for index, row in states.iterrows():\n",
    "    url = url_template.format(abb_to_full[row['State']], \n",
    "                              int(row['Zip Code']), \n",
    "                              row['State'])\n",
    "    print(row['Zip Code'], url)"
   ]
  },
  {
   "cell_type": "markdown",
   "metadata": {},
   "source": [
    "## And the finishing touches\n",
    "\n",
    "I wanted to have the connection and view data side-by-side with my demographic research. Thanks to pandas, it's as easy as a merge on Zip Code values. I love the Python community, so so much."
   ]
  },
  {
   "cell_type": "code",
   "execution_count": 16,
   "metadata": {},
   "outputs": [],
   "source": [
    "mergeDF = pd.merge(demo_data, opp_data, left_on=['Zip Code'], right_on=['Zip Code'])"
   ]
  },
  {
   "cell_type": "code",
   "execution_count": 18,
   "metadata": {
    "scrolled": true
   },
   "outputs": [
    {
     "data": {
      "text/html": [
       "<div>\n",
       "<style>\n",
       "    .dataframe thead tr:only-child th {\n",
       "        text-align: right;\n",
       "    }\n",
       "\n",
       "    .dataframe thead th {\n",
       "        text-align: left;\n",
       "    }\n",
       "\n",
       "    .dataframe tbody tr th {\n",
       "        vertical-align: top;\n",
       "    }\n",
       "</style>\n",
       "<table border=\"1\" class=\"dataframe\">\n",
       "  <thead>\n",
       "    <tr style=\"text-align: right;\">\n",
       "      <th></th>\n",
       "      <th>Zip Code</th>\n",
       "      <th>Population</th>\n",
       "      <th>Age 50+</th>\n",
       "      <th>Potential Reach</th>\n",
       "      <th>Bachelor's Degree+</th>\n",
       "      <th>Median HH Income</th>\n",
       "      <th>Households w/ Retirement Income</th>\n",
       "      <th>City</th>\n",
       "      <th>State</th>\n",
       "      <th>RR</th>\n",
       "      <th>Connections</th>\n",
       "      <th>Views</th>\n",
       "      <th>Title</th>\n",
       "    </tr>\n",
       "  </thead>\n",
       "  <tbody>\n",
       "    <tr>\n",
       "      <th>0</th>\n",
       "      <td>10023</td>\n",
       "      <td>60586</td>\n",
       "      <td>0.280</td>\n",
       "      <td>16964</td>\n",
       "      <td>0.81</td>\n",
       "      <td>111478</td>\n",
       "      <td>0.13</td>\n",
       "      <td>Manhattan</td>\n",
       "      <td>NY</td>\n",
       "      <td>0.047337</td>\n",
       "      <td>8</td>\n",
       "      <td>169</td>\n",
       "      <td>Share your experience! Mentor foreign born stu...</td>\n",
       "    </tr>\n",
       "    <tr>\n",
       "      <th>1</th>\n",
       "      <td>11803</td>\n",
       "      <td>28390</td>\n",
       "      <td>0.400</td>\n",
       "      <td>11356</td>\n",
       "      <td>0.60</td>\n",
       "      <td>126536</td>\n",
       "      <td>0.24</td>\n",
       "      <td>Nassau County</td>\n",
       "      <td>NY</td>\n",
       "      <td>0.000000</td>\n",
       "      <td>0</td>\n",
       "      <td>69</td>\n",
       "      <td>Share your experience! Mentor foreign born stu...</td>\n",
       "    </tr>\n",
       "    <tr>\n",
       "      <th>2</th>\n",
       "      <td>14618</td>\n",
       "      <td>22352</td>\n",
       "      <td>0.360</td>\n",
       "      <td>8046</td>\n",
       "      <td>0.68</td>\n",
       "      <td>89688</td>\n",
       "      <td>0.21</td>\n",
       "      <td>Rochester</td>\n",
       "      <td>NY</td>\n",
       "      <td>0.000000</td>\n",
       "      <td>0</td>\n",
       "      <td>92</td>\n",
       "      <td>Do You Like to Chat?  Videochat and Mentor Our...</td>\n",
       "    </tr>\n",
       "    <tr>\n",
       "      <th>3</th>\n",
       "      <td>20744</td>\n",
       "      <td>51759</td>\n",
       "      <td>0.450</td>\n",
       "      <td>23291</td>\n",
       "      <td>0.33</td>\n",
       "      <td>88384</td>\n",
       "      <td>0.35</td>\n",
       "      <td>Fort Washington</td>\n",
       "      <td>MD</td>\n",
       "      <td>0.032967</td>\n",
       "      <td>3</td>\n",
       "      <td>91</td>\n",
       "      <td>Share your experience! Mentor foreign born stu...</td>\n",
       "    </tr>\n",
       "    <tr>\n",
       "      <th>4</th>\n",
       "      <td>22032</td>\n",
       "      <td>29956</td>\n",
       "      <td>0.365</td>\n",
       "      <td>10933</td>\n",
       "      <td>0.66</td>\n",
       "      <td>140253</td>\n",
       "      <td>0.31</td>\n",
       "      <td>Fairfax</td>\n",
       "      <td>VA</td>\n",
       "      <td>0.013333</td>\n",
       "      <td>1</td>\n",
       "      <td>75</td>\n",
       "      <td>Share your experience! Mentor foreign born stu...</td>\n",
       "    </tr>\n",
       "  </tbody>\n",
       "</table>\n",
       "</div>"
      ],
      "text/plain": [
       "   Zip Code  Population  Age 50+  Potential Reach  Bachelor's Degree+  \\\n",
       "0     10023       60586    0.280            16964                0.81   \n",
       "1     11803       28390    0.400            11356                0.60   \n",
       "2     14618       22352    0.360             8046                0.68   \n",
       "3     20744       51759    0.450            23291                0.33   \n",
       "4     22032       29956    0.365            10933                0.66   \n",
       "\n",
       "   Median HH Income  Households w/ Retirement Income             City State  \\\n",
       "0            111478                             0.13        Manhattan    NY   \n",
       "1            126536                             0.24    Nassau County    NY   \n",
       "2             89688                             0.21        Rochester    NY   \n",
       "3             88384                             0.35  Fort Washington    MD   \n",
       "4            140253                             0.31          Fairfax    VA   \n",
       "\n",
       "         RR  Connections  Views  \\\n",
       "0  0.047337            8    169   \n",
       "1  0.000000            0     69   \n",
       "2  0.000000            0     92   \n",
       "3  0.032967            3     91   \n",
       "4  0.013333            1     75   \n",
       "\n",
       "                                               Title  \n",
       "0  Share your experience! Mentor foreign born stu...  \n",
       "1  Share your experience! Mentor foreign born stu...  \n",
       "2  Do You Like to Chat?  Videochat and Mentor Our...  \n",
       "3  Share your experience! Mentor foreign born stu...  \n",
       "4  Share your experience! Mentor foreign born stu...  "
      ]
     },
     "execution_count": 18,
     "metadata": {},
     "output_type": "execute_result"
    }
   ],
   "source": [
    "mergeDF.head()"
   ]
  },
  {
   "cell_type": "markdown",
   "metadata": {
    "collapsed": true
   },
   "source": [
    "Then I call my append function to place a timestamped worksheet in my local workbook, and upload the final dataframe to Google Sheets. The local version is prettier, but the pure dataframe translation gets the job done."
   ]
  },
  {
   "cell_type": "code",
   "execution_count": null,
   "metadata": {
    "collapsed": true
   },
   "outputs": [],
   "source": [
    "append_vm_data(mergeDF)"
   ]
  },
  {
   "cell_type": "code",
   "execution_count": null,
   "metadata": {
    "collapsed": true
   },
   "outputs": [],
   "source": [
    "upload_to_sheets(mergeDF)"
   ]
  },
  {
   "cell_type": "markdown",
   "metadata": {
    "collapsed": true
   },
   "source": [
    "## Today was a good day\n",
    "\n",
    "I'm feeling at one with ol-boy Ice Cube. I've simplified my workflow significantly and can focus on analysis and success rather than playing around with logins and manually formatting excel files. I'm rather pleased. Tomorrow I'll be digging in to what's working with our targeting and developing strategies we can use to improve our rate of response. Separately, I'm trying to ween myself from Town Charts and start collecting the ACS data directly from the Census website. This is a much taller order and will probably take a bit longer, but when i get it working -- Oh the fun we will have!\n",
    "\n",
    "Big thanks to the Stack Overflow community and all of the other people that tripped over my errors first so I didn't have to figure everything out on my own. \n",
    "\n",
    "Cheers!\n",
    "\n",
    "_Wolf_"
   ]
  },
  {
   "cell_type": "code",
   "execution_count": null,
   "metadata": {
    "collapsed": true
   },
   "outputs": [],
   "source": []
  }
 ],
 "metadata": {
  "kernelspec": {
   "display_name": "Python 3",
   "language": "python",
   "name": "python3"
  },
  "language_info": {
   "codemirror_mode": {
    "name": "ipython",
    "version": 3
   },
   "file_extension": ".py",
   "mimetype": "text/x-python",
   "name": "python",
   "nbconvert_exporter": "python",
   "pygments_lexer": "ipython3",
   "version": "3.6.2"
  }
 },
 "nbformat": 4,
 "nbformat_minor": 2
}
